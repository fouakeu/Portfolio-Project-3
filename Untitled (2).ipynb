{
 "cells": [
  {
   "cell_type": "code",
   "execution_count": null,
   "id": "d6fc5477-ea9f-4700-8e4e-73b80053dda3",
   "metadata": {},
   "outputs": [],
   "source": []
  }
 ],
 "metadata": {
  "kernelspec": {
   "display_name": "",
   "name": ""
  },
  "language_info": {
   "name": ""
  }
 },
 "nbformat": 4,
 "nbformat_minor": 5
}
